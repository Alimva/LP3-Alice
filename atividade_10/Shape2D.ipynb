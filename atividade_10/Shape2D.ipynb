{
 "cells": [
  {
   "cell_type": "code",
   "execution_count": 1,
   "metadata": {},
   "outputs": [],
   "source": [
    "\n",
    "\n",
    "class Shape2D:\n",
    "\n",
    "    def __init__(self,altura,largura):\n",
    "        self.altura = altura\n",
    "        self.largura = largura\n",
    "        \n",
    "    \n",
    "    def __valida(self, altura,largura):\n",
    "        if(altura < 0 and largura < 0):\n",
    "            raise ValueError(\"Valores inválidos!!!\")\n",
    "        \n",
    "    def print_shape(self):\n",
    "        print(f\"Altura = {self.altura}\\nLargura = {self.largura}\"+largura);\n",
    "    \n",
    "\n",
    "    def area(self):\n",
    "        return self.altura * self.largura\n",
    "    \n",
    "\n",
    "    def perimetro(self):\n",
    "        return 2*self.altura+2*self.largura\n",
    "    \n"
   ]
  },
  {
   "cell_type": "code",
   "execution_count": 7,
   "metadata": {},
   "outputs": [],
   "source": [
    "class Retangulo(Shape2D):\n",
    "    def __init__(self,altura,largura):\n",
    "        Shape2D.__init__(self,altura,largura)\n",
    "\n",
    "class Quadrado(Shape2D):\n",
    "    def __init__(self, altura, largura):\n",
    "        Shape2D.__init__(self,altura, largura)\n",
    "\n",
    "class Circulo(Shape2D):\n",
    "    def __init__(self, raio):\n",
    "        Shape2D.__init__(self,raio, 0)\n",
    "    \n",
    "    def area(self):\n",
    "        return self.altura*self.altura*3.14\n",
    "    \n",
    "    def perimetro(self):\n",
    "        return 2*self.altura*3.14\n",
    "\n",
    "class Triangulo(Shape2D):\n",
    "    def __init__(self, altura, largura):\n",
    "        Shape2D.__init__(self,altura, largura)\n",
    "\n",
    "    def area(self):\n",
    "        return (self.largura * self.altura)/2\n",
    "    \n",
    "    def perimetro(self):\n",
    "        return 3 * self.largura\n",
    "    \n"
   ]
  },
  {
   "cell_type": "code",
   "execution_count": 9,
   "metadata": {},
   "outputs": [
    {
     "name": "stdout",
     "output_type": "stream",
     "text": [
      "Area q = 4\n",
      "Area t = 3.0\n",
      "Area r = 6\n",
      "Area c = 12.56\n",
      "\n",
      "\n",
      "Perimetro q = 8\n",
      "Perimetro t = 9\n",
      "Perimetro r = 10\n",
      "Perimetro c = 12.56\n"
     ]
    }
   ],
   "source": [
    "if __name__ == '__main__':\n",
    "    q = Quadrado(2,2)\n",
    "    t = Triangulo(2,3)\n",
    "    r = Retangulo(2,3)\n",
    "    c = Circulo(2)\n",
    "\n",
    "    print(f\"Area q = {q.area()}\")\n",
    "    print(f\"Area t = {t.area()}\")\n",
    "    print(f\"Area r = {r.area()}\")\n",
    "    print(f\"Area c = {c.area()}\\n\\n\")\n",
    "\n",
    "    print(f\"Perimetro q = {q.perimetro()}\")\n",
    "    print(f\"Perimetro t = {t.perimetro()}\")\n",
    "    print(f\"Perimetro r = {r.perimetro()}\")\n",
    "    print(f\"Perimetro c = {c.perimetro()}\")\n"
   ]
  },
  {
   "cell_type": "code",
   "execution_count": null,
   "metadata": {},
   "outputs": [],
   "source": []
  }
 ],
 "metadata": {
  "kernelspec": {
   "display_name": "Python 3",
   "language": "python",
   "name": "python3"
  },
  "language_info": {
   "codemirror_mode": {
    "name": "ipython",
    "version": 3
   },
   "file_extension": ".py",
   "mimetype": "text/x-python",
   "name": "python",
   "nbconvert_exporter": "python",
   "pygments_lexer": "ipython3",
   "version": "3.10.6"
  },
  "orig_nbformat": 4
 },
 "nbformat": 4,
 "nbformat_minor": 2
}
