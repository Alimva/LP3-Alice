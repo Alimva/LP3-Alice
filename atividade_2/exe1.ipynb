{
 "cells": [
  {
   "cell_type": "code",
   "execution_count": 2,
   "metadata": {},
   "outputs": [],
   "source": [
    "def media(teste):\n",
    "    m = 0\n",
    "\n",
    "    for i in range(len(teste)):\n",
    "        m += teste[i]\n",
    "    \n",
    "    return m/10"
   ]
  },
  {
   "cell_type": "code",
   "execution_count": 3,
   "metadata": {},
   "outputs": [],
   "source": [
    "def desvio_padrao(teste,media):\n",
    "    dv = 0\n",
    "\n",
    "    for i in range(len (teste)):\n",
    "        dv += (media - teste[i]) ** 2\n",
    "    \n",
    "    return dv/10"
   ]
  },
  {
   "cell_type": "code",
   "execution_count": 4,
   "metadata": {},
   "outputs": [],
   "source": [
    "def leitura(media, desvio):\n",
    "    \n",
    "    if(desvio > (media/10)):\n",
    "        print(f\"Leitura incorreta pois {desvio} e maior que {media/10}\")\n",
    "    \n",
    "    else:\n",
    "        print(f\"Leitura correta pois {desvio} e menor que {media/10}\")\n"
   ]
  },
  {
   "cell_type": "code",
   "execution_count": 5,
   "metadata": {},
   "outputs": [
    {
     "name": "stdout",
     "output_type": "stream",
     "text": [
      "Leitura correta pois 0.0 e menor que 1.0\n",
      "Leitura incorreta pois 0.25 e maior que 0.15\n",
      "Leitura incorreta pois 12.0 e maior que 1.3\n"
     ]
    }
   ],
   "source": [
    "teste1 = [10,10,10,10,10,10,10,10,10,10]\n",
    "teste2 = [1,2,1,2,1,2,1,2,1,2]\n",
    "teste3 = [7,9,10,11,13,14,15,16,17,18]\n",
    "\n",
    "m1 = media(teste1)\n",
    "m2 = media(teste2)\n",
    "m3 = media(teste3)\n",
    "\n",
    "dv1 = desvio_padrao(teste1,m1)\n",
    "dv2 = desvio_padrao(teste2,m2)\n",
    "dv3 = desvio_padrao(teste3,m3)\n",
    "\n",
    "leitura(m1,dv1)\n",
    "leitura(m2,dv2)\n",
    "leitura(m3,dv3)"
   ]
  },
  {
   "cell_type": "code",
   "execution_count": null,
   "metadata": {},
   "outputs": [],
   "source": []
  }
 ],
 "metadata": {
  "kernelspec": {
   "display_name": "Python 3",
   "language": "python",
   "name": "python3"
  },
  "language_info": {
   "codemirror_mode": {
    "name": "ipython",
    "version": 3
   },
   "file_extension": ".py",
   "mimetype": "text/x-python",
   "name": "python",
   "nbconvert_exporter": "python",
   "pygments_lexer": "ipython3",
   "version": "3.10.6"
  },
  "orig_nbformat": 4
 },
 "nbformat": 4,
 "nbformat_minor": 2
}
