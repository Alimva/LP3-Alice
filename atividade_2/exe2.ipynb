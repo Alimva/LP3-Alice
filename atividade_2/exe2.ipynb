{
 "cells": [
  {
   "cell_type": "code",
   "execution_count": 5,
   "metadata": {},
   "outputs": [],
   "source": [
    "import random\n",
    "\n",
    "def lancamento( ):\n",
    "    dado = [0,0]\n",
    "    dado[0] = random.randrange(1,7)\n",
    "    dado[1] = random.randrange(1,7)\n",
    "    return dado"
   ]
  },
  {
   "cell_type": "code",
   "execution_count": 6,
   "metadata": {},
   "outputs": [],
   "source": [
    "def fase_1(dado):\n",
    "    resul = dado[0]+dado[1]\n",
    "\n",
    "    if(resul == 7 or resul == 11):\n",
    "        ganhou = True\n",
    "        fase = False\n",
    "    \n",
    "    elif(resul == 2 or resul == 3 or resul == 12):\n",
    "        ganhou = False\n",
    "        fase = False\n",
    "    else:\n",
    "        ganhou = False\n",
    "        fase = True\n",
    "    \n",
    "    return ganhou, fase\n"
   ]
  },
  {
   "cell_type": "code",
   "execution_count": 7,
   "metadata": {},
   "outputs": [],
   "source": [
    "def fase_2 (dado, ponto):\n",
    "    resul = dado[0]+dado[1]\n",
    "\n",
    "    if(resul == ponto):\n",
    "        ganhou = True\n",
    "        stop = True\n",
    "    \n",
    "    elif(resul == 7):\n",
    "        ganhou = False\n",
    "        stop = True\n",
    "    \n",
    "    else:\n",
    "        ganhou = False\n",
    "        stop = False\n",
    "        \n",
    "    return ganhou, stop\n"
   ]
  },
  {
   "cell_type": "code",
   "execution_count": 8,
   "metadata": {},
   "outputs": [
    {
     "name": "stdout",
     "output_type": "stream",
     "text": [
      "Dado 1: 1 Dado 2: 4\n",
      "Soma 5\n",
      "Iniciando a segunda fase\n",
      "Dado 1: 4 Dado 2: 3\n",
      "Soma 7\n",
      "Que pena, voce perdeu.\n"
     ]
    }
   ],
   "source": [
    "dados = lancamento()\n",
    "ganhou,fase = fase_1(dados)\n",
    "print(f\"Dado 1: {dados[0]} Dado 2: {dados[1]}\")\n",
    "print(\"Soma\", dados[0]+dados[1])\n",
    "\n",
    "if(fase == True):\n",
    "    stop = False\n",
    "    print(\"Iniciando a segunda fase\")\n",
    "    ponto = dados[0]+dados[1]\n",
    "    \n",
    "    while(stop == False):\n",
    "        dados = lancamento()\n",
    "        ganhou,stop = fase_2(dados,ponto)\n",
    "        print(f\"Dado 1: {dados[0]} Dado 2: {dados[1]}\")\n",
    "        print(\"Soma\", dados[0]+dados[1])\n",
    "\n",
    "if(ganhou == True):\n",
    "    print(\"Parabens!! Voce ganhou!!\")\n",
    "\n",
    "else:\n",
    "    print(\"Que pena, voce perdeu.\")"
   ]
  }
 ],
 "metadata": {
  "kernelspec": {
   "display_name": "Python 3",
   "language": "python",
   "name": "python3"
  },
  "language_info": {
   "codemirror_mode": {
    "name": "ipython",
    "version": 3
   },
   "file_extension": ".py",
   "mimetype": "text/x-python",
   "name": "python",
   "nbconvert_exporter": "python",
   "pygments_lexer": "ipython3",
   "version": "3.10.6"
  },
  "orig_nbformat": 4
 },
 "nbformat": 4,
 "nbformat_minor": 2
}
